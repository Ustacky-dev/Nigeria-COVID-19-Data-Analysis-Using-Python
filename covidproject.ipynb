{
 "cells": [
  {
   "cell_type": "markdown",
   "metadata": {},
   "source": [
    "### Task 1 - Data Collection\n",
    "Here you will obtain the required data for the analysis. As described in the project instructions, you will perform a web scrap to obtain data from the NCDC website, import data from the John Hopkins repository, and import the provided external data.\n"
   ]
  },
  {
   "cell_type": "code",
   "execution_count": null,
   "metadata": {},
   "outputs": [],
   "source": []
  },
  {
   "cell_type": "markdown",
   "metadata": {},
   "source": [
    "### A - NCDC Website scrap\n",
    "Website - https://covid19.ncdc.gov.ng/"
   ]
  },
  {
   "cell_type": "code",
   "execution_count": null,
   "metadata": {},
   "outputs": [],
   "source": [
    "# Write Your Code Below\n",
    "# Import all libraries in this cell\n",
    "import requests\n",
    "import numpy as np\n",
    "import urllib.request\n",
    "import pandas as pd\n",
    "import csv\n",
    "from bs4 import BeautifulSoup\n",
    "import seaborn as sns\n",
    "sns.set_style(\"darkgrid\")\n",
    "import matplotlib.pyplot as plt\n",
    "%matplotlib inline\n",
    "plt.style.use('fivethirtyeight')  \n",
    "import warnings\n",
    "warnings.filterwarnings('ignore')"
   ]
  },
  {
   "cell_type": "code",
   "execution_count": null,
   "metadata": {},
   "outputs": [],
   "source": [
    "# Create a BeautifulSoup object\n",
    "ncdc_url = 'https://covid19.ncdc.gov.ng/'\n",
    "markup = requests.get(ncdc_url)\n",
    "soup = BeautifulSoup(markup.text, 'lxml')\n",
    "\n",
    "# Get the data on metrics across all the 37 states\n",
    "table = soup.find('table', id = 'custom1') # table#custom1>(thead>tr>th*5)+tbody>tr*37>td*5\n",
    "table_headers = [th.text for th in table.thead.find_all('th')] # table>thead>tr> | th*5\n",
    "table_body = []\n",
    "rows = table.tbody.find_all('tr') # tbody> | tr*37>td*5\n",
    "for row in rows:\n",
    "    row = [td.text for td in row.find_all('td')] # tbody>tr*37> | td*5\n",
    "    table_body.append(row)\n",
    "\n",
    "# Save the data to a DataFrame object.\n",
    "ncdc_df = pd.DataFrame(table_body, columns = table_headers)"
   ]
  },
  {
   "cell_type": "markdown",
   "metadata": {},
   "source": [
    "### B - John Hopkins Data Repository\n",
    "Here you will obtain data from the John Hopkins repository. Your task here involves saving the data from the GitHub repo link to DataFrame for further analysis. Find the links below. \n",
    "* Global Daily Confirmed Cases - Click [Here](https://github.com/CSSEGISandData/COVID-19/blob/master/csse_covid_19_data/csse_covid_19_time_series/time_series_covid19_confirmed_global.csv)\n",
    "* Global Daily Recovered Cases - Click [Here](https://github.com/CSSEGISandData/COVID-19/blob/master/csse_covid_19_data/csse_covid_19_time_series/time_series_covid19_recovered_global.csv)\n",
    "* Global Daily Death Cases - Click [Here](https://github.com/CSSEGISandData/COVID-19/blob/master/csse_covid_19_data/csse_covid_19_time_series/time_series_covid19_deaths_global.csv)"
   ]
  },
  {
   "cell_type": "code",
   "execution_count": null,
   "metadata": {},
   "outputs": [],
   "source": [
    "# Get the URL for the CSV files\n",
    "csse_url = 'https://raw.githubusercontent.com/CSSEGISandData/COVID-19/master/csse_covid_19_data/csse_covid_19_time_series/time_series_covid19_{}_global.csv'\n",
    "files = ['confirmed', 'recovered', 'deaths']\n",
    "\n",
    "# Create a DataFrame object for each file\n",
    "for file in files:\n",
    "    globals()[file + '_df'] = pd.read_csv(csse_url.format(file))"
   ]
  },
  {
   "cell_type": "markdown",
   "metadata": {},
   "source": [
    "### C - External Data \n",
    "* Save the external data to a DataFrame\n",
    "* External Data includes but not limited to: `covid_external.csv`, `Budget data.csv`, `RealGDP.csv`"
   ]
  },
  {
   "cell_type": "code",
   "execution_count": null,
   "metadata": {},
   "outputs": [],
   "source": [
    "covid_extrenal_df = pd.read_csv('./covid_external.csv')\n",
    "budget_data_df = pd.read_csv('./Budget data.csv')\n",
    "read_gdp_df = pd.read_csv('./RealGDP.csv')\n",
    "covidnig_df = pd.read_csv('./covidnig.csv')"
   ]
  },
  {
   "cell_type": "markdown",
   "metadata": {},
   "source": [
    "### Task 2 - View the data\n",
    "Obtain basic information about the data using the `head()` and `info()` method."
   ]
  },
  {
   "cell_type": "code",
   "execution_count": null,
   "metadata": {},
   "outputs": [],
   "source": [
    "#[Write Your Code Here]\n"
   ]
  },
  {
   "cell_type": "markdown",
   "metadata": {},
   "source": [
    "### Task 3 - Data Cleaning and Preparation\n",
    "From the information obtained above, you will need to fix the data format. \n",
    "<br>\n",
    "Examples: \n",
    "* Convert to appropriate data type.\n",
    "* Rename the columns of the scraped data.\n",
    "* Remove comma(,) in numerical data\n",
    "* Extract daily data for Nigeria from the Global daily cases data"
   ]
  },
  {
   "cell_type": "markdown",
   "metadata": {},
   "source": [
    "TODO A - Clean the scraped data"
   ]
  },
  {
   "cell_type": "code",
   "execution_count": null,
   "metadata": {},
   "outputs": [],
   "source": [
    "#[Write Your Code Here]\n"
   ]
  },
  {
   "cell_type": "code",
   "execution_count": null,
   "metadata": {},
   "outputs": [],
   "source": []
  },
  {
   "cell_type": "markdown",
   "metadata": {},
   "source": [
    "TODO B - Get a Pandas DataFrame for Daily Confirmed Cases in Nigeria. Columns are Date and Cases"
   ]
  },
  {
   "cell_type": "markdown",
   "metadata": {},
   "source": [
    "TODO C - Get a Pandas DataFrame for Daily Recovered Cases in Nigeria. Columns are Date and Cases"
   ]
  },
  {
   "cell_type": "markdown",
   "metadata": {},
   "source": [
    "TODO D - Get a Pandas DataFrame for Daily Death Cases in Nigeria. Columns are Date and Cases"
   ]
  },
  {
   "cell_type": "markdown",
   "metadata": {},
   "source": [
    "### Task 4 - Analysis\n",
    "Here you will perform some analyses on the datasets. You are welcome to communicate findings in charts and summary. \n",
    "<br>\n",
    "We have included a few TODOs to help with your analysis. However, do not let this limit your approach, feel free to include more, and be sure to support your findings with chart and summary "
   ]
  },
  {
   "cell_type": "markdown",
   "metadata": {},
   "source": [
    "TODO A - Generate a plot that shows the Top 10 states in terms of Confirmed Covid cases by Laboratory test"
   ]
  },
  {
   "cell_type": "markdown",
   "metadata": {},
   "source": [
    "TODO B - Generate a plot that shows the Top 10 states in terms of Discharged Covid cases. Hint - Sort the values"
   ]
  },
  {
   "cell_type": "markdown",
   "metadata": {},
   "source": [
    "TODO D - Plot the top 10 Death cases"
   ]
  },
  {
   "cell_type": "markdown",
   "metadata": {},
   "source": [
    "TODO E - Generate a line plot for the total daily confirmed, recovered and death cases in Nigeria"
   ]
  },
  {
   "cell_type": "markdown",
   "metadata": {},
   "source": [
    "TODO F - \n",
    "* Determine the daily infection rate, you can use the Pandas `diff` method to find the derivate of the total cases.\n",
    "* Generate a line plot for the above"
   ]
  },
  {
   "cell_type": "markdown",
   "metadata": {},
   "source": [
    "TODO G - \n",
    "* Calculate maximum infection rate for a day (Number of new cases)\n",
    "* Find the date"
   ]
  },
  {
   "cell_type": "markdown",
   "metadata": {},
   "source": [
    "TODO H - Determine the relationship between the external dataset and the NCDC COVID-19 dataset. \n",
    "Here you will generate a line plot of top 10 confirmed cases and the overall community vulnerability index on the same axis. From the graph, explain your observation.\n",
    "<br>\n",
    "Steps\n",
    "* Combine the two dataset together on a common column(states)\n",
    "* Create a new dataframe for plotting. This DataFrame will contain top 10 states in terms of confirmed cases i.e sort by confirmed cases. ** Hint: Check out Pandas [nlargest](https://pandas.pydata.org/pandas-docs/stable/reference/api/pandas.DataFrame.nlargest.html) function. This [tutorial](https://cmdlinetips.com/2019/03/how-to-select-top-n-rows-with-the-largest-values-in-a-columns-in-pandas/) can help out ** \n",
    "* Plot both variable on the same axis. Check out this [tutorial](http://kitchingroup.cheme.cmu.edu/blog/2013/09/13/Plotting-two-datasets-with-very-different-scales/)"
   ]
  },
  {
   "cell_type": "markdown",
   "metadata": {},
   "source": [
    "TODO I - Determine the relationship between the external dataset and the NCDC COVID-19 dataset. \n",
    "* Here you will generate a regression plot between two variables to visualize the linear relationships - Confirmed Cases and Population Density.\n",
    "Hint: Check out Seaborn [Regression Plot](https://seaborn.pydata.org/generated/seaborn.regplot.html).\n",
    "* Provide a summary of your observation"
   ]
  },
  {
   "cell_type": "markdown",
   "metadata": {},
   "source": [
    "TODO J - \n",
    "* Provide more analyses by extending TODO G & H. Meaning, determine relationships between more features.\n",
    "* Provide a detailed summary of your findings. \n",
    "* Note that you can have as many as possible."
   ]
  },
  {
   "cell_type": "markdown",
   "metadata": {},
   "source": [
    "### TODO L - \n",
    "Determine the effect of the Pandemic on the economy. To do this, you will compare the Real GDP value Pre-COVID-19 with Real GDP in 2020 (COVID-19 Period, especially Q2 2020)\n",
    "<br>\n",
    "Steps\n",
    "* From the Real GDP Data, generate a `barplot` using the GDP values for each year & quarters. For example: On x-axis you will have year 2017 and the bars will be values of each quarters(Q1-Q4). You expected to have subplots of each quarters on one graph.\n",
    "<br>\n",
    "Hint: Use [Pandas.melt](https://pandas.pydata.org/docs/reference/api/pandas.melt.html) to create your plot DataFrame \n",
    "* Set your quarter legend to lower left.\n",
    "* Using `axhline`, draw a horizontal line through the graph at the value of Q2 2020.\n",
    "* Write out your observation"
   ]
  },
  {
   "cell_type": "markdown",
   "metadata": {},
   "source": []
  },
  {
   "cell_type": "markdown",
   "metadata": {},
   "source": [
    "### Note: Do not limit your analysis to the provided TODOs. Perform more analyses e.g \n",
    "* Check for more external dataset\n",
    "* Ask more questions & find the right answers by exploring the data"
   ]
  },
  {
   "cell_type": "markdown",
   "metadata": {},
   "source": []
  }
 ],
 "metadata": {
  "kernelspec": {
   "display_name": "Python 3",
   "language": "python",
   "name": "python3"
  },
  "language_info": {
   "codemirror_mode": {
    "name": "ipython",
    "version": 3
   },
   "file_extension": ".py",
   "mimetype": "text/x-python",
   "name": "python",
   "nbconvert_exporter": "python",
   "pygments_lexer": "ipython3",
   "version": "3.10.10"
  },
  "orig_nbformat": 2
 },
 "nbformat": 4,
 "nbformat_minor": 2
}
